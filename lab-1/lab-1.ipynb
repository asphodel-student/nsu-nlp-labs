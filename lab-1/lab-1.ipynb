{
 "nbformat": 4,
 "nbformat_minor": 0,
 "metadata": {
  "colab": {
   "provenance": []
  },
  "kernelspec": {
   "name": "python3",
   "language": "python",
   "display_name": "Python 3 (ipykernel)"
  },
  "language_info": {
   "name": "python"
  }
 },
 "cells": [
  {
   "cell_type": "markdown",
   "source": [
    "\n",
    "\n",
    "---\n",
    "\n",
    "# Task 1\n",
    "---\n",
    "\n"
   ],
   "metadata": {
    "id": "Lz7LjpPkLB_b"
   }
  },
  {
   "cell_type": "code",
   "execution_count": 1,
   "metadata": {
    "id": "hPrb55_50RFF",
    "ExecuteTime": {
     "end_time": "2023-10-08T08:02:22.779843715Z",
     "start_time": "2023-10-08T08:02:21.203853293Z"
    }
   },
   "outputs": [],
   "source": [
    "import spacy\n",
    "import pandas as pd\n",
    "from tqdm import tqdm\n",
    "from spacy.tokens import DocBin"
   ]
  },
  {
   "cell_type": "markdown",
   "source": [
    "### Read the dataset"
   ],
   "metadata": {
    "id": "ZkG-zb4HLJqD"
   }
  },
  {
   "cell_type": "code",
   "source": [
    "train_df = pd.read_csv('train.csv')\n",
    "train_df = train_df.drop('idx', axis=1)\n",
    "train_df = train_df[['Text', 'Score']]\n",
    "\n",
    "test_df = pd.read_csv('test.csv')\n",
    "test_df = test_df.drop('idx', axis=1)"
   ],
   "metadata": {
    "id": "-sp_4rs-3abK",
    "ExecuteTime": {
     "end_time": "2023-10-08T08:02:23.426998639Z",
     "start_time": "2023-10-08T08:02:22.778613818Z"
    }
   },
   "execution_count": 2,
   "outputs": []
  },
  {
   "cell_type": "markdown",
   "source": [
    "### Load the model"
   ],
   "metadata": {
    "id": "6qAsbNs2LMHj"
   }
  },
  {
   "cell_type": "code",
   "source": [
    "!python -m spacy download ru_core_news_sm\n",
    "\n",
    "nlp = spacy.load(\"ru_core_news_sm\")"
   ],
   "metadata": {
    "colab": {
     "base_uri": "https://localhost:8080/"
    },
    "id": "kNlulnokEXyC",
    "outputId": "dea7d688-e5a1-408c-ec3b-f245db7e2a6a",
    "ExecuteTime": {
     "end_time": "2023-10-08T08:02:35.191800966Z",
     "start_time": "2023-10-08T08:02:27.385698083Z"
    }
   },
   "execution_count": 3,
   "outputs": [
    {
     "name": "stdout",
     "output_type": "stream",
     "text": [
      "Collecting ru-core-news-sm==3.6.0\r\n",
      "  Downloading https://github.com/explosion/spacy-models/releases/download/ru_core_news_sm-3.6.0/ru_core_news_sm-3.6.0-py3-none-any.whl (15.3 MB)\r\n",
      "\u001B[2K     \u001B[90m━━━━━━━━━━━━━━━━━━━━━━━━━━━━━━━━━━━━━━━━\u001B[0m \u001B[32m15.3/15.3 MB\u001B[0m \u001B[31m8.3 MB/s\u001B[0m eta \u001B[36m0:00:00\u001B[0m00:01\u001B[0m00:01\u001B[0m\r\n",
      "\u001B[?25hRequirement already satisfied: spacy<3.7.0,>=3.6.0 in /home/asphodel/Code/ML-DL/venv/lib/python3.10/site-packages (from ru-core-news-sm==3.6.0) (3.6.1)\r\n",
      "Requirement already satisfied: pymorphy3>=1.0.0 in /home/asphodel/Code/ML-DL/venv/lib/python3.10/site-packages (from ru-core-news-sm==3.6.0) (1.2.1)\r\n",
      "Requirement already satisfied: dawg-python>=0.7.1 in /home/asphodel/Code/ML-DL/venv/lib/python3.10/site-packages (from pymorphy3>=1.0.0->ru-core-news-sm==3.6.0) (0.7.2)\r\n",
      "Requirement already satisfied: pymorphy3-dicts-ru in /home/asphodel/Code/ML-DL/venv/lib/python3.10/site-packages (from pymorphy3>=1.0.0->ru-core-news-sm==3.6.0) (2.4.417150.4580142)\r\n",
      "Requirement already satisfied: docopt-ng>=0.6 in /home/asphodel/Code/ML-DL/venv/lib/python3.10/site-packages (from pymorphy3>=1.0.0->ru-core-news-sm==3.6.0) (0.9.0)\r\n",
      "Requirement already satisfied: setuptools in /home/asphodel/Code/ML-DL/venv/lib/python3.10/site-packages (from spacy<3.7.0,>=3.6.0->ru-core-news-sm==3.6.0) (65.5.1)\r\n",
      "Requirement already satisfied: pydantic!=1.8,!=1.8.1,<3.0.0,>=1.7.4 in /home/asphodel/Code/ML-DL/venv/lib/python3.10/site-packages (from spacy<3.7.0,>=3.6.0->ru-core-news-sm==3.6.0) (1.10.12)\r\n",
      "Requirement already satisfied: packaging>=20.0 in /home/asphodel/Code/ML-DL/venv/lib/python3.10/site-packages (from spacy<3.7.0,>=3.6.0->ru-core-news-sm==3.6.0) (23.1)\r\n",
      "Requirement already satisfied: thinc<8.2.0,>=8.1.8 in /home/asphodel/Code/ML-DL/venv/lib/python3.10/site-packages (from spacy<3.7.0,>=3.6.0->ru-core-news-sm==3.6.0) (8.1.12)\r\n",
      "Requirement already satisfied: langcodes<4.0.0,>=3.2.0 in /home/asphodel/Code/ML-DL/venv/lib/python3.10/site-packages (from spacy<3.7.0,>=3.6.0->ru-core-news-sm==3.6.0) (3.3.0)\r\n",
      "Requirement already satisfied: pathy>=0.10.0 in /home/asphodel/Code/ML-DL/venv/lib/python3.10/site-packages (from spacy<3.7.0,>=3.6.0->ru-core-news-sm==3.6.0) (0.10.2)\r\n",
      "Requirement already satisfied: spacy-legacy<3.1.0,>=3.0.11 in /home/asphodel/Code/ML-DL/venv/lib/python3.10/site-packages (from spacy<3.7.0,>=3.6.0->ru-core-news-sm==3.6.0) (3.0.12)\r\n",
      "Requirement already satisfied: typer<0.10.0,>=0.3.0 in /home/asphodel/Code/ML-DL/venv/lib/python3.10/site-packages (from spacy<3.7.0,>=3.6.0->ru-core-news-sm==3.6.0) (0.9.0)\r\n",
      "Requirement already satisfied: cymem<2.1.0,>=2.0.2 in /home/asphodel/Code/ML-DL/venv/lib/python3.10/site-packages (from spacy<3.7.0,>=3.6.0->ru-core-news-sm==3.6.0) (2.0.8)\r\n",
      "Requirement already satisfied: catalogue<2.1.0,>=2.0.6 in /home/asphodel/Code/ML-DL/venv/lib/python3.10/site-packages (from spacy<3.7.0,>=3.6.0->ru-core-news-sm==3.6.0) (2.0.10)\r\n",
      "Requirement already satisfied: requests<3.0.0,>=2.13.0 in /home/asphodel/Code/ML-DL/venv/lib/python3.10/site-packages (from spacy<3.7.0,>=3.6.0->ru-core-news-sm==3.6.0) (2.31.0)\r\n",
      "Requirement already satisfied: spacy-loggers<2.0.0,>=1.0.0 in /home/asphodel/Code/ML-DL/venv/lib/python3.10/site-packages (from spacy<3.7.0,>=3.6.0->ru-core-news-sm==3.6.0) (1.0.5)\r\n",
      "Requirement already satisfied: smart-open<7.0.0,>=5.2.1 in /home/asphodel/Code/ML-DL/venv/lib/python3.10/site-packages (from spacy<3.7.0,>=3.6.0->ru-core-news-sm==3.6.0) (6.4.0)\r\n",
      "Requirement already satisfied: wasabi<1.2.0,>=0.9.1 in /home/asphodel/Code/ML-DL/venv/lib/python3.10/site-packages (from spacy<3.7.0,>=3.6.0->ru-core-news-sm==3.6.0) (1.1.2)\r\n",
      "Requirement already satisfied: preshed<3.1.0,>=3.0.2 in /home/asphodel/Code/ML-DL/venv/lib/python3.10/site-packages (from spacy<3.7.0,>=3.6.0->ru-core-news-sm==3.6.0) (3.0.9)\r\n",
      "Requirement already satisfied: tqdm<5.0.0,>=4.38.0 in /home/asphodel/Code/ML-DL/venv/lib/python3.10/site-packages (from spacy<3.7.0,>=3.6.0->ru-core-news-sm==3.6.0) (4.66.1)\r\n",
      "Requirement already satisfied: jinja2 in /home/asphodel/Code/ML-DL/venv/lib/python3.10/site-packages (from spacy<3.7.0,>=3.6.0->ru-core-news-sm==3.6.0) (3.1.2)\r\n",
      "Requirement already satisfied: numpy>=1.15.0 in /home/asphodel/Code/ML-DL/venv/lib/python3.10/site-packages (from spacy<3.7.0,>=3.6.0->ru-core-news-sm==3.6.0) (1.26.0)\r\n",
      "Requirement already satisfied: murmurhash<1.1.0,>=0.28.0 in /home/asphodel/Code/ML-DL/venv/lib/python3.10/site-packages (from spacy<3.7.0,>=3.6.0->ru-core-news-sm==3.6.0) (1.0.10)\r\n",
      "Requirement already satisfied: srsly<3.0.0,>=2.4.3 in /home/asphodel/Code/ML-DL/venv/lib/python3.10/site-packages (from spacy<3.7.0,>=3.6.0->ru-core-news-sm==3.6.0) (2.4.8)\r\n",
      "Requirement already satisfied: typing-extensions>=4.2.0 in /home/asphodel/Code/ML-DL/venv/lib/python3.10/site-packages (from pydantic!=1.8,!=1.8.1,<3.0.0,>=1.7.4->spacy<3.7.0,>=3.6.0->ru-core-news-sm==3.6.0) (4.8.0)\r\n",
      "Requirement already satisfied: idna<4,>=2.5 in /home/asphodel/Code/ML-DL/venv/lib/python3.10/site-packages (from requests<3.0.0,>=2.13.0->spacy<3.7.0,>=3.6.0->ru-core-news-sm==3.6.0) (3.4)\r\n",
      "Requirement already satisfied: urllib3<3,>=1.21.1 in /home/asphodel/Code/ML-DL/venv/lib/python3.10/site-packages (from requests<3.0.0,>=2.13.0->spacy<3.7.0,>=3.6.0->ru-core-news-sm==3.6.0) (2.0.5)\r\n",
      "Requirement already satisfied: charset-normalizer<4,>=2 in /home/asphodel/Code/ML-DL/venv/lib/python3.10/site-packages (from requests<3.0.0,>=2.13.0->spacy<3.7.0,>=3.6.0->ru-core-news-sm==3.6.0) (3.2.0)\r\n",
      "Requirement already satisfied: certifi>=2017.4.17 in /home/asphodel/Code/ML-DL/venv/lib/python3.10/site-packages (from requests<3.0.0,>=2.13.0->spacy<3.7.0,>=3.6.0->ru-core-news-sm==3.6.0) (2023.7.22)\r\n",
      "Requirement already satisfied: blis<0.8.0,>=0.7.8 in /home/asphodel/Code/ML-DL/venv/lib/python3.10/site-packages (from thinc<8.2.0,>=8.1.8->spacy<3.7.0,>=3.6.0->ru-core-news-sm==3.6.0) (0.7.11)\r\n",
      "Requirement already satisfied: confection<1.0.0,>=0.0.1 in /home/asphodel/Code/ML-DL/venv/lib/python3.10/site-packages (from thinc<8.2.0,>=8.1.8->spacy<3.7.0,>=3.6.0->ru-core-news-sm==3.6.0) (0.1.3)\r\n",
      "Requirement already satisfied: click<9.0.0,>=7.1.1 in /home/asphodel/Code/ML-DL/venv/lib/python3.10/site-packages (from typer<0.10.0,>=0.3.0->spacy<3.7.0,>=3.6.0->ru-core-news-sm==3.6.0) (8.1.7)\r\n",
      "Requirement already satisfied: MarkupSafe>=2.0 in /home/asphodel/Code/ML-DL/venv/lib/python3.10/site-packages (from jinja2->spacy<3.7.0,>=3.6.0->ru-core-news-sm==3.6.0) (2.1.3)\r\n",
      "\r\n",
      "\u001B[1m[\u001B[0m\u001B[34;49mnotice\u001B[0m\u001B[1;39;49m]\u001B[0m\u001B[39;49m A new release of pip available: \u001B[0m\u001B[31;49m22.3.1\u001B[0m\u001B[39;49m -> \u001B[0m\u001B[32;49m23.2.1\u001B[0m\r\n",
      "\u001B[1m[\u001B[0m\u001B[34;49mnotice\u001B[0m\u001B[1;39;49m]\u001B[0m\u001B[39;49m To update, run: \u001B[0m\u001B[32;49mpip install --upgrade pip\u001B[0m\r\n",
      "\u001B[38;5;2m✔ Download and installation successful\u001B[0m\r\n",
      "You can now load the package via spacy.load('ru_core_news_sm')\r\n"
     ]
    }
   ]
  },
  {
   "cell_type": "markdown",
   "source": [
    "### Split dataset and create .spacy files"
   ],
   "metadata": {
    "collapsed": false
   }
  },
  {
   "cell_type": "code",
   "source": [
    "data = [tuple(train_df.iloc[i].values) for i in range(train_df.shape[0])]\n",
    "test = [tuple(test_df.iloc[i].values) for i in range(test_df.shape[0])]\n",
    "\n",
    "dividing_point = int(len(data) * 0.75)\n",
    "\n",
    "train_data = data[:dividing_point]\n",
    "test_data = data[dividing_point:]"
   ],
   "metadata": {
    "id": "zKG7hpNRE5jC",
    "ExecuteTime": {
     "end_time": "2023-10-08T08:02:35.393484517Z",
     "start_time": "2023-10-08T08:02:35.213720054Z"
    }
   },
   "execution_count": 4,
   "outputs": []
  },
  {
   "cell_type": "code",
   "source": [
    "def make_docs(data):\n",
    "    \"\"\"\n",
    "    this will take a list of texts and labels\n",
    "    and transform them in spacy documents\n",
    "    data: list(tuple(text, label))\n",
    "    returns: List(spacy.Doc.doc)\n",
    "    \"\"\"\n",
    "    docs = []\n",
    "    # nlp.pipe([texts]) is way faster than running\n",
    "    # nlp(text) for each text\n",
    "    # as_tuples allows us to pass in a tuple,\n",
    "    # the first one is treated as text\n",
    "    # the second one will get returned as it is.\n",
    "    # a = tqdm(nlp.pipe(data, as_tuples=True), total = len(data))\n",
    "    for doc, label in tqdm(nlp.pipe(data, as_tuples=True), total = len(data)):\n",
    "        doc.cats[\"Positive\"] = int(label == 'Positive')\n",
    "        doc.cats[\"Negative\"] = int(label == 'Negative')\n",
    "        \n",
    "        # we need to set the (text)cat(egory) for each document\n",
    "        #doc.cats[\"positive\"] = label\n",
    "        # put them into a nice list\n",
    "        docs.append(doc)\n",
    "    return docs"
   ],
   "metadata": {
    "id": "Ni2OdmMDFPfw",
    "ExecuteTime": {
     "end_time": "2023-09-28T16:10:58.673026288Z",
     "start_time": "2023-09-28T16:10:58.663305725Z"
    }
   },
   "execution_count": 7,
   "outputs": []
  },
  {
   "cell_type": "code",
   "source": [
    "train_docs = make_docs(train_data)\n",
    "doc_bin = DocBin(docs=train_docs)\n",
    "doc_bin.to_disk(\"train.spacy\") \n",
    "\n",
    "valid_docs = make_docs(test_data)\n",
    "doc_bin = DocBin(docs=valid_docs)\n",
    "doc_bin.to_disk(\"valid.spacy\")"
   ],
   "metadata": {
    "colab": {
     "base_uri": "https://localhost:8080/"
    },
    "id": "YJXccgX7FRpv",
    "outputId": "2eb94a50-1da9-4ea8-ecea-64f44019933b"
   },
   "execution_count": null,
   "outputs": []
  },
  {
   "cell_type": "markdown",
   "source": [
    "### Make a config"
   ],
   "metadata": {
    "collapsed": false
   }
  },
  {
   "cell_type": "code",
   "source": [
    "!python -m spacy init fill-config base_config.cfg config.cfg"
   ],
   "metadata": {
    "id": "SL0G1W57ILBp",
    "ExecuteTime": {
     "end_time": "2023-09-28T15:39:53.195759951Z",
     "start_time": "2023-09-28T15:39:51.377563757Z"
    }
   },
   "execution_count": 3,
   "outputs": [
    {
     "name": "stdout",
     "output_type": "stream",
     "text": [
      "\u001B[38;5;2m✔ Auto-filled config with all values\u001B[0m\r\n",
      "\u001B[38;5;2m✔ Saved config\u001B[0m\r\n",
      "config.cfg\r\n",
      "You can now add your data and train your pipeline:\r\n",
      "python -m spacy train config.cfg --paths.train ./train.spacy --paths.dev ./dev.spacy\r\n"
     ]
    }
   ]
  },
  {
   "cell_type": "markdown",
   "source": [
    "### Train our model :)"
   ],
   "metadata": {
    "collapsed": false
   }
  },
  {
   "cell_type": "code",
   "source": [
    "!python -m spacy train config.cfg --output ./output --paths.train ./train.spacy --paths.dev ./valid.spacy --gpu-id 0"
   ],
   "metadata": {
    "id": "spgJ-OG7IPUK",
    "ExecuteTime": {
     "end_time": "2023-10-08T08:11:27.302142322Z",
     "start_time": "2023-10-08T08:04:07.715519791Z"
    }
   },
   "execution_count": 6,
   "outputs": [
    {
     "name": "stdout",
     "output_type": "stream",
     "text": [
      "\u001B[38;5;4mℹ Saving to output directory: output\u001B[0m\r\n",
      "\u001B[38;5;4mℹ Using GPU: 0\u001B[0m\r\n",
      "\u001B[1m\r\n",
      "=========================== Initializing pipeline ===========================\u001B[0m\r\n",
      "\u001B[38;5;2m✔ Initialized pipeline\u001B[0m\r\n",
      "\u001B[1m\r\n",
      "============================= Training pipeline =============================\u001B[0m\r\n",
      "\u001B[38;5;4mℹ Pipeline: ['textcat']\u001B[0m\r\n",
      "\u001B[38;5;4mℹ Initial learn rate: 0.001\u001B[0m\r\n",
      "E    #       LOSS TEXTCAT  CATS_SCORE  SCORE \r\n",
      "---  ------  ------------  ----------  ------\r\n",
      "  0       0          0.25       33.07    0.33\r\n",
      "  0     200         49.02       34.05    0.34\r\n",
      "  0     400         44.90       64.82    0.65\r\n",
      "  0     600         29.35       51.17    0.51\r\n",
      "  0     800         29.25       88.11    0.88\r\n",
      "  0    1000         25.54       86.00    0.86\r\n",
      "  0    1200         24.72       89.31    0.89\r\n",
      "  0    1400         20.83       79.74    0.80\r\n",
      "  0    1600         25.73       86.86    0.87\r\n",
      "  0    1800         19.67       90.75    0.91\r\n",
      "  0    2000         17.80       89.69    0.90\r\n",
      "  0    2200         14.68       90.72    0.91\r\n",
      "  0    2400         15.64       90.82    0.91\r\n",
      "  0    2600         17.52       91.51    0.92\r\n",
      "  0    2800         14.86       91.97    0.92\r\n",
      "  0    3000         12.23       90.90    0.91\r\n",
      "  0    3200         19.34       91.16    0.91\r\n",
      "  0    3400         14.84       92.48    0.92\r\n",
      "  0    3600         17.18       92.57    0.93\r\n",
      "  0    3800         16.65       88.74    0.89\r\n",
      "  0    4000         12.14       87.29    0.87\r\n",
      "  0    4200         11.99       91.56    0.92\r\n",
      "  0    4400         12.88       92.91    0.93\r\n",
      "  0    4600         11.64       89.34    0.89\r\n",
      "  0    4800         15.30       91.70    0.92\r\n",
      "  0    5000         12.48       91.87    0.92\r\n",
      "  0    5200         13.87       93.60    0.94\r\n",
      "  0    5400         11.54       92.36    0.92\r\n",
      "  0    5600         13.02       93.42    0.93\r\n",
      "  0    5800         12.02       93.66    0.94\r\n",
      "  1    6000          8.44       93.71    0.94\r\n",
      "\u001B[38;5;2m✔ Saved pipeline to output directory\u001B[0m\r\n",
      "output/model-last\r\n"
     ]
    }
   ]
  },
  {
   "cell_type": "markdown",
   "source": [
    "### Inference"
   ],
   "metadata": {
    "collapsed": false
   }
  },
  {
   "cell_type": "code",
   "execution_count": 7,
   "outputs": [
    {
     "name": "stdout",
     "output_type": "stream",
     "text": [
      "Current position: 0 / 3500\n",
      "Current position: 100 / 3500\n",
      "Current position: 200 / 3500\n",
      "Current position: 300 / 3500\n",
      "Current position: 400 / 3500\n",
      "Current position: 500 / 3500\n",
      "Current position: 600 / 3500\n",
      "Current position: 700 / 3500\n",
      "Current position: 800 / 3500\n",
      "Current position: 900 / 3500\n",
      "Current position: 1000 / 3500\n",
      "Current position: 1100 / 3500\n",
      "Current position: 1200 / 3500\n",
      "Current position: 1300 / 3500\n",
      "Current position: 1400 / 3500\n",
      "Current position: 1500 / 3500\n",
      "Current position: 1600 / 3500\n",
      "Current position: 1700 / 3500\n",
      "Current position: 1800 / 3500\n",
      "Current position: 1900 / 3500\n",
      "Current position: 2000 / 3500\n",
      "Current position: 2100 / 3500\n",
      "Current position: 2200 / 3500\n",
      "Current position: 2300 / 3500\n",
      "Current position: 2400 / 3500\n",
      "Current position: 2500 / 3500\n",
      "Current position: 2600 / 3500\n",
      "Current position: 2700 / 3500\n",
      "Current position: 2800 / 3500\n",
      "Current position: 2900 / 3500\n",
      "Current position: 3000 / 3500\n",
      "Current position: 3100 / 3500\n",
      "Current position: 3200 / 3500\n",
      "Current position: 3300 / 3500\n",
      "Current position: 3400 / 3500\n",
      "0.9371428571428572\n"
     ]
    }
   ],
   "source": [
    "# load the best model from training\n",
    "nlp = spacy.load(\"output/model-best\")\n",
    "\n",
    "correct_answers = 0\n",
    "all_answers = len(test_data)\n",
    "\n",
    "for i, string in enumerate(test_data):\n",
    "\n",
    "    if i % 100 == 0:\n",
    "        print('Current position: {} / {}'.format(i, all_answers))\n",
    "\n",
    "    output = nlp(string[0])\n",
    "\n",
    "    if (output.cats['Positive'] > 0.5 and string[1] == 'Positive') or (output.cats['Negative'] > 0.5 and string[1] == 'Negative'):\n",
    "        correct_answers += 1\n",
    "\n",
    "print(correct_answers / all_answers)"
   ],
   "metadata": {
    "collapsed": false,
    "ExecuteTime": {
     "end_time": "2023-10-08T08:11:56.088750905Z",
     "start_time": "2023-10-08T08:11:35.283471407Z"
    }
   }
  },
  {
   "cell_type": "code",
   "execution_count": 8,
   "outputs": [
    {
     "name": "stdout",
     "output_type": "stream",
     "text": [
      "type : ‘quit’ to exit\n",
      "{'Positive': 0.011917437426745892, 'Negative': 0.9880826473236084}\n",
      "the sentiment is negative\n",
      "{'Positive': 0.9015288949012756, 'Negative': 0.09847111999988556}\n",
      "the sentiment is positive\n",
      "{'Positive': 0.0, 'Negative': 0.0}\n",
      "the sentiment is negative\n",
      "{'Positive': 0.0, 'Negative': 0.0}\n",
      "the sentiment is negative\n",
      "{'Positive': 0.0, 'Negative': 0.0}\n",
      "the sentiment is negative\n",
      "{'Positive': 1.0, 'Negative': 2.4505830522706374e-19}\n",
      "the sentiment is positive\n"
     ]
    }
   ],
   "source": [
    "text = \"\"\n",
    "print(\"type : ‘quit’ to exit\")\n",
    "# predict the sentiment until someone writes quit\n",
    "while text != \"quit\":\n",
    "    text = input(\"Please enter example input: \")\n",
    "    doc = nlp(text)\n",
    "    print(doc.cats)\n",
    "    if doc.cats['Positive'] >.5:\n",
    "        print(f\"the sentiment is positive\")\n",
    "    else:\n",
    "        print(f\"the sentiment is negative\")"
   ],
   "metadata": {
    "collapsed": false,
    "ExecuteTime": {
     "end_time": "2023-10-08T08:13:21.295585032Z",
     "start_time": "2023-10-08T08:12:12.359087737Z"
    }
   }
  },
  {
   "cell_type": "code",
   "execution_count": null,
   "outputs": [],
   "source": [],
   "metadata": {
    "collapsed": false
   }
  }
 ]
}
